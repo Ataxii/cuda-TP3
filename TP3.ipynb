{
  "nbformat": 4,
  "nbformat_minor": 0,
  "metadata": {
    "colab": {
      "provenance": []
    },
    "kernelspec": {
      "name": "python3",
      "display_name": "Python 3"
    },
    "language_info": {
      "name": "python"
    },
    "accelerator": "GPU",
    "gpuClass": "premium"
  },
  "cells": [
    {
      "cell_type": "markdown",
      "source": [
        "# Configuration de Cuda dans Google Colab"
      ],
      "metadata": {
        "id": "qE-HbkLWqjJK"
      }
    },
    {
      "cell_type": "code",
      "execution_count": null,
      "metadata": {
        "id": "OJjU5zI_-tjl"
      },
      "outputs": [],
      "source": [
        "!nvcc -V"
      ]
    },
    {
      "cell_type": "code",
      "source": [
        "!pip install git+https://github.com/andreinechaev/nvcc4jupyter.git"
      ],
      "metadata": {
        "id": "HBZjh4P4-1HE"
      },
      "execution_count": null,
      "outputs": []
    },
    {
      "cell_type": "markdown",
      "source": [
        "## On vérifie que l'on est bien connecté au GPU"
      ],
      "metadata": {
        "id": "YJw3IWdqtpfb"
      }
    },
    {
      "cell_type": "code",
      "source": [
        "gpu_info = !nvidia-smi\n",
        "gpu_info = '\\n'.join(gpu_info)\n",
        "if gpu_info.find('failed') >= 0:\n",
        "  print('Not connected to a GPU')\n",
        "else:\n",
        "  print(gpu_info)"
      ],
      "metadata": {
        "id": "9gl_4Pn7_JR2"
      },
      "execution_count": null,
      "outputs": []
    },
    {
      "cell_type": "markdown",
      "source": [
        "## Chargement du plugin nvcc permettant de compiler/executer les programmes Cuda"
      ],
      "metadata": {
        "id": "NlBBvVVOt4Bz"
      }
    },
    {
      "cell_type": "code",
      "source": [
        "%load_ext nvcc_plugin"
      ],
      "metadata": {
        "id": "6YGSePh_Q_DP"
      },
      "execution_count": null,
      "outputs": []
    },
    {
      "cell_type": "markdown",
      "source": [
        "## Un makefile est déjà à votre disposition pour compiler les programme du TP\n"
      ],
      "metadata": {
        "id": "0zrHyBuVuQpB"
      }
    },
    {
      "cell_type": "markdown",
      "source": [
        "### 1. Executez la cellule du Makefile\n",
        "\n",
        "Le makefile a été modifié pour les programmes puisse s'exécuter avec la GPU premium.\n",
        "\n"
      ],
      "metadata": {
        "id": "AWS3uSGwu2o2"
      }
    },
    {
      "cell_type": "code",
      "source": [
        "%%writefile Makefile\n",
        "# Change the example variable to build a different source module (e.g. EXAMPLE=exercice01)\n",
        "EXAMPLE=program\n",
        "\n",
        "# Makefile variables \n",
        "# Add extra targets to OBJ with space separator e.g. If there is as source file random.c then add random.o to OBJ)\n",
        "# Add any additional dependancies (header files) to DEPS. e.g. if there is aheader file random.h required by your source modules then add this to DEPS.\n",
        "CC=gcc\n",
        "CFLAGS= -O3 -Wextra -fopenmp\n",
        "NVCC=nvcc\n",
        "NVCC_FLAGS= -gencode arch=compute_75,code=sm_75 -gencode arch=compute_80,code=sm_80 -gencode arch=compute_86,code=sm_86 -gencode arch=compute_87,code=sm_87\n",
        "OBJ=$(EXAMPLE).o\n",
        "DEPS=\n",
        "\n",
        "# Build rule for object files ($@ is left hand side of rule, $< is first item from the right hand side of rule)\n",
        "%.o : %.cu $(DEPS)\n",
        "\t$(NVCC) -c -o $@ $< $(NVCC_FLAGS) $(addprefix -Xcompiler ,$(CCFLAGS))\n",
        "\n",
        "# Make example ($^ is all items from right hand side of the rule)\n",
        "$(EXAMPLE) : $(OBJ)\n",
        "\t$(NVCC) -o $@ $^ $(NVCC_FLAGS) $(addprefix -Xcompiler ,$(CCFLAGS))\n",
        "\n",
        "# PHONY prevents make from doing something with a filename called clean\n",
        ".PHONY : clean\n",
        "clean:\n",
        "\trm -rf $(EXAMPLE) $(OBJ)"
      ],
      "metadata": {
        "id": "2VMs5wjdRU0g"
      },
      "execution_count": null,
      "outputs": []
    },
    {
      "cell_type": "markdown",
      "source": [
        "# TP3\n"
      ],
      "metadata": {
        "id": "ri3OU-i0vt2X"
      }
    },
    {
      "cell_type": "markdown",
      "source": [
        "## Fonctions utilitaires\n",
        "\n",
        "utils.h est un header contenant des fonctions utilitaires qui seront utilisés par nos programmes"
      ],
      "metadata": {
        "id": "aimw4eG5H5KV"
      }
    },
    {
      "cell_type": "code",
      "source": [
        "%%writefile utils.h\n",
        "#ifndef __UTILS_H__\n",
        "#define __UTILS_H__\n",
        "#include <stdio.h>\n",
        "\n",
        "static void HandleError( cudaError_t err,\n",
        "                         const char *file,\n",
        "                         int line ) {\n",
        "    if (err != cudaSuccess) {\n",
        "        printf( \"%s in %s at line %d\\n\", cudaGetErrorString( err ),\n",
        "                file, line );\n",
        "        exit( EXIT_FAILURE );\n",
        "    }\n",
        "}\n",
        "#define HANDLE_ERROR( err ) (HandleError( err, __FILE__, __LINE__ ))\n",
        "\n",
        "\n",
        "#define HANDLE_NULL( a ) {if (a == NULL) { \\\n",
        "                            printf( \"Host memory failed in %s at line %d\\n\", \\\n",
        "                                    __FILE__, __LINE__ ); \\\n",
        "                            exit( EXIT_FAILURE );}}\n",
        "\n",
        "template< typename T >\n",
        "void swap( T& a, T& b ) {\n",
        "    T t = a;\n",
        "    a = b;\n",
        "    b = t;\n",
        "}\n",
        "\n",
        "\n",
        "void* big_random_block( int size ) {\n",
        "    unsigned char *data = (unsigned char*)malloc( size );\n",
        "    HANDLE_NULL( data );\n",
        "    for (int i=0; i<size; i++)\n",
        "        data[i] = rand();\n",
        "\n",
        "    return data;\n",
        "}\n",
        "\n",
        "int* big_random_block_int( int size ) {\n",
        "    int *data = (int*)malloc( size * sizeof(int) );\n",
        "    HANDLE_NULL( data );\n",
        "    for (int i=0; i<size; i++)\n",
        "        data[i] = rand();\n",
        "\n",
        "    return data;\n",
        "}\n",
        "\n",
        "\n",
        "// a place for common kernels - starts here\n",
        "\n",
        "__device__ unsigned char value( float n1, float n2, int hue ) {\n",
        "    if (hue > 360)      hue -= 360;\n",
        "    else if (hue < 0)   hue += 360;\n",
        "\n",
        "    if (hue < 60)\n",
        "        return (unsigned char)(255 * (n1 + (n2-n1)*hue/60));\n",
        "    if (hue < 180)\n",
        "        return (unsigned char)(255 * n2);\n",
        "    if (hue < 240)\n",
        "        return (unsigned char)(255 * (n1 + (n2-n1)*(240-hue)/60));\n",
        "    return (unsigned char)(255 * n1);\n",
        "}\n",
        "\n",
        "__global__ void float_to_color( unsigned char *optr,\n",
        "                              const float *outSrc ) {\n",
        "    // map from threadIdx/BlockIdx to pixel position\n",
        "    int x = threadIdx.x + blockIdx.x * blockDim.x;\n",
        "    int y = threadIdx.y + blockIdx.y * blockDim.y;\n",
        "    int offset = x + y * blockDim.x * gridDim.x;\n",
        "\n",
        "    float l = outSrc[offset];\n",
        "    float s = 1;\n",
        "    int h = (180 + (int)(360.0f * outSrc[offset])) % 360;\n",
        "    float m1, m2;\n",
        "\n",
        "    if (l <= 0.5f)\n",
        "        m2 = l * (1 + s);\n",
        "    else\n",
        "        m2 = l + s - l * s;\n",
        "    m1 = 2 * l - m2;\n",
        "\n",
        "    optr[offset*4 + 0] = value( m1, m2, h+120 );\n",
        "    optr[offset*4 + 1] = value( m1, m2, h );\n",
        "    optr[offset*4 + 2] = value( m1, m2, h -120 );\n",
        "    optr[offset*4 + 3] = 255;\n",
        "}\n",
        "\n",
        "__global__ void float_to_color( uchar4 *optr,\n",
        "                              const float *outSrc ) {\n",
        "    // map from threadIdx/BlockIdx to pixel position\n",
        "    int x = threadIdx.x + blockIdx.x * blockDim.x;\n",
        "    int y = threadIdx.y + blockIdx.y * blockDim.y;\n",
        "    int offset = x + y * blockDim.x * gridDim.x;\n",
        "\n",
        "    float l = outSrc[offset];\n",
        "    float s = 1;\n",
        "    int h = (180 + (int)(360.0f * outSrc[offset])) % 360;\n",
        "    float m1, m2;\n",
        "\n",
        "    if (l <= 0.5f)\n",
        "        m2 = l * (1 + s);\n",
        "    else\n",
        "        m2 = l + s - l * s;\n",
        "    m1 = 2 * l - m2;\n",
        "\n",
        "    optr[offset].x = value( m1, m2, h+120 );\n",
        "    optr[offset].y = value( m1, m2, h );\n",
        "    optr[offset].z = value( m1, m2, h -120 );\n",
        "    optr[offset].w = 255;\n",
        "}\n",
        "\n",
        "\n",
        "#if _WIN32\n",
        "    //Windows threads.\n",
        "    #include <windows.h>\n",
        "\n",
        "    typedef HANDLE CUTThread;\n",
        "    typedef unsigned (WINAPI *CUT_THREADROUTINE)(void *);\n",
        "\n",
        "    #define CUT_THREADPROC unsigned WINAPI\n",
        "    #define  CUT_THREADEND return 0\n",
        "\n",
        "#else\n",
        "    //POSIX threads.\n",
        "    #include <pthread.h>\n",
        "\n",
        "    typedef pthread_t CUTThread;\n",
        "    typedef void *(*CUT_THREADROUTINE)(void *);\n",
        "\n",
        "    #define CUT_THREADPROC void\n",
        "    #define  CUT_THREADEND\n",
        "#endif\n",
        "\n",
        "//Create thread.\n",
        "CUTThread start_thread( CUT_THREADROUTINE, void *data );\n",
        "\n",
        "//Wait for thread to finish.\n",
        "void end_thread( CUTThread thread );\n",
        "\n",
        "//Destroy thread.\n",
        "void destroy_thread( CUTThread thread );\n",
        "\n",
        "//Wait for multiple threads.\n",
        "void wait_for_threads( const CUTThread *threads, int num );\n",
        "\n",
        "#if _WIN32\n",
        "    //Create thread\n",
        "    CUTThread start_thread(CUT_THREADROUTINE func, void *data){\n",
        "        return CreateThread(NULL, 0, (LPTHREAD_START_ROUTINE)func, data, 0, NULL);\n",
        "    }\n",
        "\n",
        "    //Wait for thread to finish\n",
        "    void end_thread(CUTThread thread){\n",
        "        WaitForSingleObject(thread, INFINITE);\n",
        "        CloseHandle(thread);\n",
        "    }\n",
        "\n",
        "    //Destroy thread\n",
        "    void destroy_thread( CUTThread thread ){\n",
        "        TerminateThread(thread, 0);\n",
        "        CloseHandle(thread);\n",
        "    }\n",
        "\n",
        "    //Wait for multiple threads\n",
        "    void wait_for_threads(const CUTThread * threads, int num){\n",
        "        WaitForMultipleObjects(num, threads, true, INFINITE);\n",
        "\n",
        "        for(int i = 0; i < num; i++)\n",
        "            CloseHandle(threads[i]);\n",
        "    }\n",
        "\n",
        "#else\n",
        "    //Create thread\n",
        "    CUTThread start_thread(CUT_THREADROUTINE func, void * data){\n",
        "        pthread_t thread;\n",
        "        pthread_create(&thread, NULL, func, data);\n",
        "        return thread;\n",
        "    }\n",
        "\n",
        "    //Wait for thread to finish\n",
        "    void end_thread(CUTThread thread){\n",
        "        pthread_join(thread, NULL);\n",
        "    }\n",
        "\n",
        "    //Destroy thread\n",
        "    void destroy_thread( CUTThread thread ){\n",
        "        pthread_cancel(thread);\n",
        "    }\n",
        "\n",
        "    //Wait for multiple threads\n",
        "    void wait_for_threads(const CUTThread * threads, int num){\n",
        "        for(int i = 0; i < num; i++)\n",
        "            end_thread( threads[i] );\n",
        "    }\n",
        "\n",
        "#endif\n",
        "\n",
        "\n",
        "\n",
        "\n",
        "#endif  // __UTILS_H__"
      ],
      "metadata": {
        "id": "78ooPnc8H3wB"
      },
      "execution_count": null,
      "outputs": []
    },
    {
      "cell_type": "markdown",
      "source": [
        "## 1. Convolution simple (1D)\n",
        "\n",
        "La convolution est une opération permettant d'alterer une image en faisant glisser un filtre sur cette image. Cela peut permettre d'ajouter du flou sur l'image, de detecter le contours de certains objets d'un image et bien d'autres.\n",
        "(Cf images https://github.com/GPUModule/cuda-TP3/blob/main/README.md)\n",
        "\n",
        "Le but de cet exercice est de programmer une convolution simple, ou l'on fait glisser un filtre de taille 3 (tableau de taille 3) sur un vecteur a de taille N\n",
        "\n",
        "Le vecteur c contenant le résultat de la convolution n'a pas la même taille que le que vecteur a d'origine Pour trouver la taille du tableau résultant, il suffit de faire **n_c = N - f + 1**.\n",
        "\n",
        "Une fonction **random_floats** vous est fournit permettant d'initialiser un tableau de taille N.\n",
        "\n",
        "### Complétez la fonction main.\n",
        "#### 1.1 Allouez la mémoire hôte à l'aide de malloc\n",
        "#### 1.2 Allouez la mémoire GPU à l'aide de cudaMalloc\n",
        "#### 1.3 Copiez les vecteurs a et b dans la mémoire GPU (respectivement d_a et d_b) \n",
        "#### 1.4 Copiez la mémoire du de d_c dans la mémoire hôte (c)\n",
        "#### 1.5 LIbéré la mémoire.\n",
        "\n",
        "\n",
        "### Convolution simple\n",
        "#### 1.6 Completez le kernel simple_convolution_1D_kernel\n",
        "- Créez une variable temporaire stockant le résultat de la convolution pour chaque thread.\n",
        "- Chaque thread multipliera chaque élément de f avec les éléments correspondant de a, et sommera le résultat de chaque multiplication. La résultat de la somme sera stocké dans c.\n",
        "\n",
        "#### 1.7 Executez le programme \n",
        "Le programme doit afficher un tableau a de 6 éléments, un filtre filter de 3 éléments et le résultat c de 4 éléments.\n",
        "\n",
        "On commence avec un tableau de taille 6 afin de valider rapidement le résultat de la convolution.\n",
        "\n",
        "Une fois le résultat validé, changez les paramètres suivant :\n",
        "```\n",
        "\tdim3 blocksPerGrid(1) --> dim3 blocksPerGrid((N + THREADS_PER_BLOCK -1)/THREADS_PER_BLOCK); \n",
        "```\n",
        "\n",
        "```\n",
        "  #define N 6 --> #define N 2048\n",
        "  #define THREADS_PER_BLOCK 6 --> #define THREADS_PER_BLOCK 256\n",
        "```\n",
        "  \n",
        "Commentez l'affichage des vecteurs:\n",
        "```\n",
        "print_array(a, N, \"a\"); --> print_array(a, N, \"a\"); \n",
        "print_array(filter, f, \"filter\"); --> print_array(filter, f, \"filter\");\n",
        "\n",
        "print_array(c, n_c, \"c\"); --> print_array(c, n_c, \"c\");\n",
        "```\n",
        "### Convolution simple dans la mémoire partagée.\n",
        "\n",
        "#### 1.8 Dans la fonction main, écrivez les instructions nécessaire à la création d'un vecteur cs et d'un vecteur d_cs de même dimension. cs récupérera le résultat de la convolution faite en utilisant la mémoire partagée, stocké dans d_cs.\n",
        "\n",
        "#### 1.9 Complétez le kernel shared_convolution_1D\n",
        "- Creer un vecteur s_data en mémoire partagée d'une taille égale à la dimension d'un bloc.\n",
        "- Initialisez s_data avec les éléments du vecteur a. Utilisez l'index global des threads pour récupérer les bon éléments du vecteur a.\n",
        "- Synchroniser les threads (\\_\\_syncthreads()) pour qu'ils attendent que s_data soit bien initialisé. \n",
        "\n",
        "Modifié le code afin de pouvoir utiliser cette mémoire partagée. \n",
        "\n",
        "### 1.10 Decommentez les instructions suivante :\n",
        "\n",
        "```\n",
        "//errors = validate(c, cs, n_c);\n",
        "//printf(\"CUDA GPU result has %d errors.\\n\", errors);\n",
        "```\n",
        "\n",
        "Cela de s'assurer que le résultat de la convolution simple utilisant la mémoire globale et de la convolution simple utilisant la mémoire partagée sont identiques.\n",
        "\n",
        "Faites attentions aux limites du tableau s_data, chaque block creer un tableau s_data de taille le nombre de threads de ce block. il récupère la sous-partie correspondante du tableau a dans s_data et réalise ensuite la convolution. Les threads d'un block n'ont pas accès au tableau s_data d'autres blocks.\n"
      ],
      "metadata": {
        "id": "uB1BFcg5Qxb1"
      }
    },
    {
      "cell_type": "code",
      "source": [
        "%%writefile program.cu\n",
        "#include <stdlib.h>\n",
        "#include <stdio.h>\n",
        "#include <math.h>\n",
        "#include <cuda_runtime.h>\n",
        "#include \"utils.h\"\n",
        "\n",
        "#define N 6\n",
        "#define THREADS_PER_BLOCK 6\n",
        "#define SQRT_THREADS_PER_BLOCK sqrt(THREADS_PER_BLOCK)\n",
        "\n",
        "void random_floats(float *a, int n);\n",
        "void print_array(float *a, int n, char *name);\n",
        "int validate(float *a, float *ref, int n);\n",
        "\n",
        "__global__ void simple_convolution1D_kernel(float* c, float* a, float* filter, int f, int n) {\n",
        "  // 1.6 Complétez le kernel.\n",
        "}\n",
        "\n",
        "__global__ void shared_convolution1D_kernel(float* c, float* a, float* filter, int f, int n) {\n",
        "  // 1.9 Complétez le kernel\n",
        "}\n",
        "\n",
        "int main(void) {\n",
        "\tsrand( time( NULL ) );\n",
        "\n",
        "\tfloat *a, *filter, *c;\n",
        "\tfloat *d_a, *d_filter, *d_c;\n",
        "\tint errors;\n",
        "\t\n",
        "\tint f = 3\n",
        "\tint n_c = N - f + 1 \n",
        "\n",
        "\tevent_pair timer;\n",
        "\n",
        "  // 1.1. Allocation de la mémoire hôte\n",
        "\tunsigned int filter_size = \n",
        "\tunsigned int size = \n",
        "\tunsigned int c_size = \n",
        "\ta = \n",
        "\tfilter = \n",
        "\tc = \n",
        "\n",
        "\n",
        "\t// 1.2. Allocation de la mémoire GPU\n",
        "\t// A completer\n",
        "\tHANDLE_ERROR( cudaMalloc(  ) );\n",
        "  HANDLE_ERROR( cudaMalloc(  ) );\n",
        "  HANDLE_ERROR( cudaMalloc(  ) );\n",
        "\n",
        "\n",
        "\trandom_floats(a, N);\n",
        "\trandom_floats(filter, f);\n",
        "\tprint_array(a, N, \"a\");\n",
        "\tprint_array(filter, f, \"filter\");\n",
        "\n",
        "\t// 1.3. Copie de la mémoire Hôte vers la mémoire\n",
        "\t// A completer\n",
        "\tHANDLE_ERROR( cudaMemcpy( ) );\n",
        "  HANDLE_ERROR( cudaMemcpy( ) ); \n",
        "\n",
        "\t// Lancement du kernel.\n",
        "\tdim3 blocksPerGrid(1);\n",
        "\tdim3 threadsPerBlock(THREADS_PER_BLOCK);\n",
        "\tstart_timer(&timer);\n",
        "\tsimple_convolution1D_kernel<<<blocksPerGrid, threadsPerBlock>>>(d_c, d_a, d_filter, f, N);\n",
        "\tstop_timer(&timer,\"Convolution 1D sur GPU\");\n",
        "\t\n",
        "\t// 1.4. Copie de la mémoire GPU --> CPU\n",
        "\tHANDLE_ERROR( cudaMemcpy( ) );\n",
        "\n",
        "\tprint_array(c, n_c, \"c\");\n",
        "\t\n",
        "\t//start_timer(&timer);\n",
        "\t//shared_convolution1D_kernel<<<blocksPerGrid, threadsPerBlock>>>(d_cs, d_a, d_filter, f, N);\n",
        "\t//stop_timer(&timer,\"Convolution 1D shared sur GPU\");\n",
        "\n",
        "\n",
        "\t// validate\n",
        "\t//errors = validate(c, cs, n_c);\n",
        "\t//printf(\"CUDA GPU result has %d errors.\\n\", errors);\n",
        "\n",
        "\t// 1.5. Libérer la mémoire.\n",
        "\n",
        "  \n",
        "\treturn 0;\n",
        "}\n",
        "\n",
        "void random_floats(float *a, int n)\n",
        "{\n",
        "\tfor (unsigned int i = 0; i < n; i++){\n",
        "\t\t\ta[i] = (float)(rand() % 101);\n",
        "\t}\n",
        "}\n",
        "\n",
        "void print_array(float *a, int n, char*name){\n",
        "\n",
        "\tprintf(\"%s : [ \",name);\n",
        "\tfor (unsigned int i = 0; i < n; i++){\n",
        "\t\t\tprintf(\"%.4f \",a[i]);\n",
        "\t}\n",
        "\tprintf(\"]\\n\");\n",
        "}\n",
        "\n",
        "int validate(float *a, float *ref, int n){\n",
        "\tint errors = 0;\n",
        "\tfor (unsigned int i = 0; i < n; i++){\n",
        "\t\tif (a[i] != ref[i]){\n",
        "\t\t\terrors++;\n",
        "\t\t\tfprintf(stderr, \"ERROR at index %d: GPU result %f does not match CPU value of %f\\n\", i, a[i], ref[i]);\n",
        "\t\t}\n",
        "\t}\n",
        "\n",
        "\treturn errors;\n",
        "}"
      ],
      "metadata": {
        "id": "Rm-7gDO8BGH_",
        "colab": {
          "base_uri": "https://localhost:8080/"
        },
        "outputId": "f6f0e6d9-b43a-4560-b1c9-fdfab7cbf64b"
      },
      "execution_count": null,
      "outputs": [
        {
          "output_type": "stream",
          "name": "stdout",
          "text": [
            "Overwriting program.cu\n"
          ]
        }
      ]
    },
    {
      "cell_type": "code",
      "source": [
        "!make"
      ],
      "metadata": {
        "id": "PfakPQ1CHLUp"
      },
      "execution_count": null,
      "outputs": []
    },
    {
      "cell_type": "code",
      "source": [
        "!./program"
      ],
      "metadata": {
        "id": "F4BRhsCtHLo6"
      },
      "execution_count": null,
      "outputs": []
    }
  ]
}